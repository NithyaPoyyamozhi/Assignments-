{
 "cells": [
  {
   "cell_type": "code",
   "execution_count": 1,
   "metadata": {},
   "outputs": [],
   "source": [
    "#Create a class for student details\n"
   ]
  },
  {
   "cell_type": "code",
   "execution_count": 17,
   "metadata": {},
   "outputs": [
    {
     "name": "stdout",
     "output_type": "stream",
     "text": [
      "Name : John\n",
      "Roll No : 123\n",
      "Deparment : Information Technology\n"
     ]
    }
   ],
   "source": [
    "class studentInfo():\n",
    "    def student():\n",
    "        Name=\"John\"\n",
    "        Roll = 123\n",
    "        Dept=\"Information Technology\"\n",
    "        print(\"Name :\",Name)\n",
    "        print(\"Roll No :\",Roll)\n",
    "        print(\"Deparment :\",Dept)\n",
    "        \n",
    "studentInfo.student()\n",
    "\n"
   ]
  },
  {
   "cell_type": "code",
   "execution_count": 20,
   "metadata": {},
   "outputs": [
    {
     "name": "stdout",
     "output_type": "stream",
     "text": [
      "Number 1 8\n",
      "Number 2 4\n"
     ]
    }
   ],
   "source": [
    "class Swap():\n",
    "    def swapping2Numbers(num1,num2):\n",
    "        print(\"Number 1\",num2)\n",
    "        print(\"Number 2\",num1)\n",
    "Swap.swapping2Numbers(4,8)"
   ]
  },
  {
   "cell_type": "code",
   "execution_count": 33,
   "metadata": {
    "scrolled": true
   },
   "outputs": [
    {
     "name": "stdout",
     "output_type": "stream",
     "text": [
      "Mark1: 45\n",
      "Mark2: 56\n",
      "Mark3: 78\n",
      "Total: 179\n",
      "Average : 59.666666666666664\n"
     ]
    }
   ],
   "source": [
    "class Average1():\n",
    "    def Avg(Marks1,Marks2,Marks3):\n",
    "        print(\"Mark1:\",Marks1)\n",
    "        print(\"Mark2:\",Marks2)\n",
    "        print(\"Mark3:\",Marks3)\n",
    "        Total=Marks1+Marks2+Marks3\n",
    "        print(\"Total:\",Total)\n",
    "        Average=Total/3\n",
    "        print(\"Average :\",Average)\n",
    "        \n",
    "Average1.Avg(45,56,78)\n",
    "        "
   ]
  },
  {
   "cell_type": "code",
   "execution_count": 32,
   "metadata": {},
   "outputs": [],
   "source": [
    "#Create a class to display multiply of consecutive numbers\n"
   ]
  },
  {
   "cell_type": "code",
   "execution_count": null,
   "metadata": {},
   "outputs": [],
   "source": [
    "class employeeInfo():\n",
    "    def emp():\n",
    "        for i in range(3):\n",
    "            Employee_Name=input()\n",
    "            Employee_ID=int (input())\n",
    "            Employee_Role=input()\n",
    "            Employee_Salary=int (input())\n",
    "            print(\"Employee Name\",Employee_Name)\n",
    "            print(\"Employee ID\",Employee_ID)\n",
    "            print(\"Job Role\",Employee_Role)\n",
    "            print(\"Employee Salary\",Employee_Salary)\n",
    "    return Employee_Name,Employee_ID,Employee_Role,Employee_Salary\n",
    "    \n",
    "Info=employeeInfo.emp()\n",
    "print(Info)\n",
    "\n",
    "        "
   ]
  },
  {
   "cell_type": "code",
   "execution_count": null,
   "metadata": {},
   "outputs": [],
   "source": []
  },
  {
   "cell_type": "code",
   "execution_count": null,
   "metadata": {},
   "outputs": [],
   "source": [
    "List1=[1,2,3,4,5]\n",
    "multiply=[]\n",
    "for number in List1:\n",
    "    multiply=number1*number2\n",
    "    print(multiply)"
   ]
  },
  {
   "cell_type": "code",
   "execution_count": null,
   "metadata": {},
   "outputs": [],
   "source": []
  },
  {
   "cell_type": "code",
   "execution_count": null,
   "metadata": {},
   "outputs": [],
   "source": []
  }
 ],
 "metadata": {
  "kernelspec": {
   "display_name": "Python 3",
   "language": "python",
   "name": "python3"
  },
  "language_info": {
   "codemirror_mode": {
    "name": "ipython",
    "version": 3
   },
   "file_extension": ".py",
   "mimetype": "text/x-python",
   "name": "python",
   "nbconvert_exporter": "python",
   "pygments_lexer": "ipython3",
   "version": "3.7.6"
  }
 },
 "nbformat": 4,
 "nbformat_minor": 2
}
