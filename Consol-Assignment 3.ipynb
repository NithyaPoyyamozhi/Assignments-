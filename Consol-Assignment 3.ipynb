{
 "cells": [
  {
   "cell_type": "code",
   "execution_count": null,
   "id": "ca60cd17",
   "metadata": {},
   "outputs": [],
   "source": [
    "class employee_details():\n",
    "    def employee_info():\n",
    "        name=input(\"Employee name:\")\n",
    "        ID=input(\"Employee ID:\")\n",
    "        job_role=input (\"Employee Job Role:\")\n",
    "        salary=input(\"Employee salary:\")\n",
    "        name=input(\"Employee name:\")\n",
    "        ID=input(\"Employee ID:\")\n",
    "        job_role=input (\"Employee Job Role:\")\n",
    "        salary=input(\"Employee salary:\")\n",
    "        name=input(\"Employee name:\")\n",
    "        ID=input(\"Employee ID:\")\n",
    "        job_role=input (\"Employee Job Role:\")\n",
    "        salary=input(\"Employee salary:\")"
   ]
  },
  {
   "cell_type": "code",
   "execution_count": null,
   "id": "c07ab8ae",
   "metadata": {},
   "outputs": [],
   "source": [
    "class Employeedetails():\n",
    "    def emp(name,id,role,sal):\n",
    "        print(\"Employee name:\",name)\n",
    "        print(\"Employee ID:\",id)\n",
    "        print(\"Employee Job role:\",role)\n",
    "        print(\"Employee salary:\",sal)\n",
    "        print(\"----------------------\")\n",
    "Employeedetails.emp(\"John\",101,\"Software Developer\",9000)\n",
    "Employeedetails.emp(\"Amith\",125,\"Assistant\",1500)\n",
    "Employeedetails.emp(\"Aravind\",205,\"Test Engineer\",9500)"
   ]
  },
  {
   "cell_type": "code",
   "execution_count": null,
   "id": "d106f929",
   "metadata": {},
   "outputs": [],
   "source": []
  },
  {
   "cell_type": "raw",
   "id": "4749f4ed",
   "metadata": {},
   "source": []
  },
  {
   "cell_type": "code",
   "execution_count": null,
   "id": "e83cf134",
   "metadata": {},
   "outputs": [
    {
     "name": "stdout",
     "output_type": "stream",
     "text": [
      "Employee name:aravind\n",
      "Employee ID:1\n",
      "Employee Job role:ae\n",
      "Employee salary:20000\n"
     ]
    }
   ],
   "source": [
    "class employee_details():\n",
    "     def employee():\n",
    "         for i in range(50):\n",
    "             emp_name=input(\"Employee name:\")\n",
    "             emp_id=int(input(\"Employee ID:\"))\n",
    "             emp_job_role=input(\"Employee Job role:\")\n",
    "             emp_salary=int(input(\"Employee salary:\"))\n",
    "employee_details.employee()"
   ]
  },
  {
   "cell_type": "code",
   "execution_count": 2,
   "id": "55407a09",
   "metadata": {},
   "outputs": [
    {
     "name": "stdout",
     "output_type": "stream",
     "text": [
      "multiply of consecutive numbers :\n",
      "1\n",
      "2\n",
      "3\n",
      "4\n",
      "5\n",
      "6\n",
      "7\n",
      "5040\n"
     ]
    }
   ],
   "source": [
    "class multiply_of_consecutive_numbers():\n",
    "        def consecutive_number():\n",
    "            print(\"multiply of consecutive numbers :\")\n",
    "            a=int(input())\n",
    "            b=int(input())\n",
    "            c=int(input())\n",
    "            d=int(input())\n",
    "            e=int(input())\n",
    "            f=int(input())\n",
    "            g=int(input())\n",
    "            x=a*b*c*d*e*f*g\n",
    "            print(x)\n",
    "multiply_of_consecutive_numbers.consecutive_number()"
   ]
  },
  {
   "cell_type": "code",
   "execution_count": 2,
   "id": "facfe011",
   "metadata": {},
   "outputs": [
    {
     "name": "stdout",
     "output_type": "stream",
     "text": [
      "1\n",
      "2\n",
      "3\n",
      "4\n",
      "24\n"
     ]
    }
   ],
   "source": [
    "class conse():\n",
    "    def multi():\n",
    "        mul=1\n",
    "        for x in range(1,5):\n",
    "            print(x)\n",
    "            mul=mul*x\n",
    "        print(mul)      \n",
    "conse.multi()"
   ]
  },
  {
   "cell_type": "code",
   "execution_count": null,
   "id": "95c19dca",
   "metadata": {},
   "outputs": [],
   "source": []
  }
 ],
 "metadata": {
  "kernelspec": {
   "display_name": "Python 3",
   "language": "python",
   "name": "python3"
  },
  "language_info": {
   "codemirror_mode": {
    "name": "ipython",
    "version": 3
   },
   "file_extension": ".py",
   "mimetype": "text/x-python",
   "name": "python",
   "nbconvert_exporter": "python",
   "pygments_lexer": "ipython3",
   "version": "3.7.6"
  }
 },
 "nbformat": 4,
 "nbformat_minor": 5
}
